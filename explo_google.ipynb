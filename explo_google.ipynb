{
 "cells": [
  {
   "cell_type": "code",
   "execution_count": 1,
   "metadata": {},
   "outputs": [],
   "source": [
    "# Import Dependencies\n",
    "\n",
    "import numpy as np\n",
    "import pandas as pd\n",
    "import matplotlib.pyplot as plt\n",
    "from matplotlib import style\n",
    "style.use(\"ggplot\")\n",
    "import seaborn as sns"
   ]
  },
  {
   "cell_type": "code",
   "execution_count": 2,
   "metadata": {},
   "outputs": [
    {
     "data": {
      "text/html": [
       "<div>\n",
       "<style scoped>\n",
       "    .dataframe tbody tr th:only-of-type {\n",
       "        vertical-align: middle;\n",
       "    }\n",
       "\n",
       "    .dataframe tbody tr th {\n",
       "        vertical-align: top;\n",
       "    }\n",
       "\n",
       "    .dataframe thead th {\n",
       "        text-align: right;\n",
       "    }\n",
       "</style>\n",
       "<table border=\"1\" class=\"dataframe\">\n",
       "  <thead>\n",
       "    <tr style=\"text-align: right;\">\n",
       "      <th></th>\n",
       "      <th>App</th>\n",
       "      <th>Category</th>\n",
       "      <th>Rating</th>\n",
       "      <th>Reviews</th>\n",
       "      <th>Size</th>\n",
       "      <th>Installs</th>\n",
       "      <th>Type</th>\n",
       "      <th>Price</th>\n",
       "      <th>Content Rating</th>\n",
       "      <th>Genres</th>\n",
       "      <th>Last Updated</th>\n",
       "      <th>Current Ver</th>\n",
       "      <th>Android Ver</th>\n",
       "    </tr>\n",
       "  </thead>\n",
       "  <tbody>\n",
       "    <tr>\n",
       "      <th>0</th>\n",
       "      <td>Photo Editor &amp; Candy Camera &amp; Grid &amp; ScrapBook</td>\n",
       "      <td>ART_AND_DESIGN</td>\n",
       "      <td>4.1</td>\n",
       "      <td>159</td>\n",
       "      <td>19M</td>\n",
       "      <td>10,000+</td>\n",
       "      <td>Free</td>\n",
       "      <td>0</td>\n",
       "      <td>Everyone</td>\n",
       "      <td>Art &amp; Design</td>\n",
       "      <td>January 7, 2018</td>\n",
       "      <td>1.0.0</td>\n",
       "      <td>4.0.3 and up</td>\n",
       "    </tr>\n",
       "    <tr>\n",
       "      <th>1</th>\n",
       "      <td>Coloring book moana</td>\n",
       "      <td>ART_AND_DESIGN</td>\n",
       "      <td>3.9</td>\n",
       "      <td>967</td>\n",
       "      <td>14M</td>\n",
       "      <td>500,000+</td>\n",
       "      <td>Free</td>\n",
       "      <td>0</td>\n",
       "      <td>Everyone</td>\n",
       "      <td>Art &amp; Design;Pretend Play</td>\n",
       "      <td>January 15, 2018</td>\n",
       "      <td>2.0.0</td>\n",
       "      <td>4.0.3 and up</td>\n",
       "    </tr>\n",
       "    <tr>\n",
       "      <th>2</th>\n",
       "      <td>U Launcher Lite – FREE Live Cool Themes, Hide ...</td>\n",
       "      <td>ART_AND_DESIGN</td>\n",
       "      <td>4.7</td>\n",
       "      <td>87510</td>\n",
       "      <td>8.7M</td>\n",
       "      <td>5,000,000+</td>\n",
       "      <td>Free</td>\n",
       "      <td>0</td>\n",
       "      <td>Everyone</td>\n",
       "      <td>Art &amp; Design</td>\n",
       "      <td>August 1, 2018</td>\n",
       "      <td>1.2.4</td>\n",
       "      <td>4.0.3 and up</td>\n",
       "    </tr>\n",
       "    <tr>\n",
       "      <th>3</th>\n",
       "      <td>Sketch - Draw &amp; Paint</td>\n",
       "      <td>ART_AND_DESIGN</td>\n",
       "      <td>4.5</td>\n",
       "      <td>215644</td>\n",
       "      <td>25M</td>\n",
       "      <td>50,000,000+</td>\n",
       "      <td>Free</td>\n",
       "      <td>0</td>\n",
       "      <td>Teen</td>\n",
       "      <td>Art &amp; Design</td>\n",
       "      <td>June 8, 2018</td>\n",
       "      <td>Varies with device</td>\n",
       "      <td>4.2 and up</td>\n",
       "    </tr>\n",
       "    <tr>\n",
       "      <th>4</th>\n",
       "      <td>Pixel Draw - Number Art Coloring Book</td>\n",
       "      <td>ART_AND_DESIGN</td>\n",
       "      <td>4.3</td>\n",
       "      <td>967</td>\n",
       "      <td>2.8M</td>\n",
       "      <td>100,000+</td>\n",
       "      <td>Free</td>\n",
       "      <td>0</td>\n",
       "      <td>Everyone</td>\n",
       "      <td>Art &amp; Design;Creativity</td>\n",
       "      <td>June 20, 2018</td>\n",
       "      <td>1.1</td>\n",
       "      <td>4.4 and up</td>\n",
       "    </tr>\n",
       "  </tbody>\n",
       "</table>\n",
       "</div>"
      ],
      "text/plain": [
       "                                                 App        Category  Rating  \\\n",
       "0     Photo Editor & Candy Camera & Grid & ScrapBook  ART_AND_DESIGN     4.1   \n",
       "1                                Coloring book moana  ART_AND_DESIGN     3.9   \n",
       "2  U Launcher Lite – FREE Live Cool Themes, Hide ...  ART_AND_DESIGN     4.7   \n",
       "3                              Sketch - Draw & Paint  ART_AND_DESIGN     4.5   \n",
       "4              Pixel Draw - Number Art Coloring Book  ART_AND_DESIGN     4.3   \n",
       "\n",
       "  Reviews  Size     Installs  Type Price Content Rating  \\\n",
       "0     159   19M      10,000+  Free     0       Everyone   \n",
       "1     967   14M     500,000+  Free     0       Everyone   \n",
       "2   87510  8.7M   5,000,000+  Free     0       Everyone   \n",
       "3  215644   25M  50,000,000+  Free     0           Teen   \n",
       "4     967  2.8M     100,000+  Free     0       Everyone   \n",
       "\n",
       "                      Genres      Last Updated         Current Ver  \\\n",
       "0               Art & Design   January 7, 2018               1.0.0   \n",
       "1  Art & Design;Pretend Play  January 15, 2018               2.0.0   \n",
       "2               Art & Design    August 1, 2018               1.2.4   \n",
       "3               Art & Design      June 8, 2018  Varies with device   \n",
       "4    Art & Design;Creativity     June 20, 2018                 1.1   \n",
       "\n",
       "    Android Ver  \n",
       "0  4.0.3 and up  \n",
       "1  4.0.3 and up  \n",
       "2  4.0.3 and up  \n",
       "3    4.2 and up  \n",
       "4    4.4 and up  "
      ]
     },
     "execution_count": 2,
     "metadata": {},
     "output_type": "execute_result"
    }
   ],
   "source": [
    "df = pd.read_csv(\"googleplaystore.csv\")\n",
    "df.head()"
   ]
  },
  {
   "cell_type": "markdown",
   "metadata": {},
   "source": [
    "# Data exploratory"
   ]
  },
  {
   "cell_type": "code",
   "execution_count": 3,
   "metadata": {},
   "outputs": [
    {
     "data": {
      "text/plain": [
       "(10841, 13)"
      ]
     },
     "execution_count": 3,
     "metadata": {},
     "output_type": "execute_result"
    }
   ],
   "source": [
    "df.shape"
   ]
  },
  {
   "cell_type": "code",
   "execution_count": 4,
   "metadata": {},
   "outputs": [
    {
     "name": "stdout",
     "output_type": "stream",
     "text": [
      "<class 'pandas.core.frame.DataFrame'>\n",
      "RangeIndex: 10841 entries, 0 to 10840\n",
      "Data columns (total 13 columns):\n",
      " #   Column          Non-Null Count  Dtype  \n",
      "---  ------          --------------  -----  \n",
      " 0   App             10841 non-null  object \n",
      " 1   Category        10841 non-null  object \n",
      " 2   Rating          9367 non-null   float64\n",
      " 3   Reviews         10841 non-null  object \n",
      " 4   Size            10841 non-null  object \n",
      " 5   Installs        10841 non-null  object \n",
      " 6   Type            10840 non-null  object \n",
      " 7   Price           10841 non-null  object \n",
      " 8   Content Rating  10840 non-null  object \n",
      " 9   Genres          10841 non-null  object \n",
      " 10  Last Updated    10841 non-null  object \n",
      " 11  Current Ver     10833 non-null  object \n",
      " 12  Android Ver     10838 non-null  object \n",
      "dtypes: float64(1), object(12)\n",
      "memory usage: 1.1+ MB\n"
     ]
    }
   ],
   "source": [
    "df.info()"
   ]
  },
  {
   "cell_type": "code",
   "execution_count": 5,
   "metadata": {},
   "outputs": [],
   "source": [
    "# Several collumn are type object we need to transform them to get int or float type\n",
    "# Reviews column has values where million are express as 'M'"
   ]
  },
  {
   "cell_type": "code",
   "execution_count": 6,
   "metadata": {},
   "outputs": [
    {
     "data": {
      "text/plain": [
       "App               Life Made WI-Fi Touchscreen Photo Frame\n",
       "Category                                              1.9\n",
       "Rating                                               19.0\n",
       "Reviews                                              3.0M\n",
       "Size                                               1,000+\n",
       "Installs                                             Free\n",
       "Type                                                    0\n",
       "Price                                            Everyone\n",
       "Content Rating                                        NaN\n",
       "Genres                                  February 11, 2018\n",
       "Last Updated                                       1.0.19\n",
       "Current Ver                                    4.0 and up\n",
       "Android Ver                                           NaN\n",
       "Name: 10472, dtype: object"
      ]
     },
     "metadata": {},
     "output_type": "display_data"
    }
   ],
   "source": [
    "# we often go error specific to row 10472\n",
    "# we can see that the data doesn't make any sense\n",
    "# we can remove it\n",
    "display(df.iloc[10472])\n",
    "df.drop(10472,inplace=True)"
   ]
  },
  {
   "cell_type": "code",
   "execution_count": 7,
   "metadata": {},
   "outputs": [],
   "source": [
    "# df.Reviews = pd.to_numeric(df.Reviews.str.replace(\".\",\"\").str.replace(\"M\",\"000000\"))\n",
    "# df.Size = pd.to_numeric(df.Size.str.replace(\"M\",\"000000\").str.replace(\"k\",\"000\").str.replace(\"+\",\"\").str.replace(\",\",\"\").str.replace(\"Varies with device\",\"\"))\n",
    "# df.Installs = pd.to_numeric(df.Installs.str.replace(\",\",\"\").str.replace(\"+\",\"\"))\n",
    "# df.Price = pd.to_numeric(df.Price.str.replace(\"$\",\"\"))"
   ]
  },
  {
   "cell_type": "code",
   "execution_count": 8,
   "metadata": {},
   "outputs": [],
   "source": [
    "def numeric(col:pd.Series) -> pd.Series:\n",
    "    string_replace = {\".\":\"\",\n",
    "                      \"M\":\"000000\",\n",
    "                      \"k\":\"000\",\n",
    "                      \"+\":\"\",\n",
    "                      \",\":\"\",\n",
    "                      \"Varies with device\":\"\",\n",
    "                      \"$\":\"\"}\n",
    "    for string in string_replace:\n",
    "        col = col.str.replace(string,string_replace[string])\n",
    "    return pd.to_numeric(col)"
   ]
  },
  {
   "cell_type": "code",
   "execution_count": 9,
   "metadata": {},
   "outputs": [
    {
     "name": "stderr",
     "output_type": "stream",
     "text": [
      "/tmp/ipykernel_5647/4294495753.py:10: FutureWarning: The default value of regex will change from True to False in a future version. In addition, single character regular expressions will *not* be treated as literal strings when regex=True.\n",
      "  col = col.str.replace(string,string_replace[string])\n"
     ]
    },
    {
     "name": "stdout",
     "output_type": "stream",
     "text": [
      "<class 'pandas.core.frame.DataFrame'>\n",
      "Int64Index: 10840 entries, 0 to 10840\n",
      "Data columns (total 13 columns):\n",
      " #   Column          Non-Null Count  Dtype         \n",
      "---  ------          --------------  -----         \n",
      " 0   App             10840 non-null  object        \n",
      " 1   Category        10840 non-null  object        \n",
      " 2   Rating          9366 non-null   float64       \n",
      " 3   Reviews         10840 non-null  float64       \n",
      " 4   Size            9145 non-null   float64       \n",
      " 5   Installs        10840 non-null  int64         \n",
      " 6   Type            10839 non-null  object        \n",
      " 7   Price           10840 non-null  float64       \n",
      " 8   Content Rating  10840 non-null  object        \n",
      " 9   Genres          10840 non-null  object        \n",
      " 10  Last Updated    10840 non-null  datetime64[ns]\n",
      " 11  Current Ver     10832 non-null  object        \n",
      " 12  Android Ver     10838 non-null  object        \n",
      "dtypes: datetime64[ns](1), float64(4), int64(1), object(7)\n",
      "memory usage: 1.2+ MB\n"
     ]
    }
   ],
   "source": [
    "cols = [\"Reviews\",\"Size\",\"Installs\",\"Price\"]\n",
    "for col in cols:\n",
    "    df[col] = numeric(df[col])\n",
    "    \n",
    "df[\"Last Updated\"] = pd.to_datetime(df[\"Last Updated\"])\n",
    "df[\"Size\"] = df[\"Size\"] / 1000000\n",
    "df[\"Reviews\"] = df[\"Reviews\"] / 1000\n",
    "df[\"Price\"] = df[\"Price\"] / 100\n",
    "\n",
    "df.rename(columns={\"Size\":\"Size(M)\",\"Reviews\":\"Reviews(k)\"})\n",
    "\n",
    "df.info()"
   ]
  },
  {
   "cell_type": "code",
   "execution_count": 10,
   "metadata": {},
   "outputs": [
    {
     "data": {
      "text/plain": [
       "array(['4.0.3 and up', '4.2 and up', '4.4 and up', '2.3 and up',\n",
       "       '3.0 and up', '4.1 and up', '4.0 and up', '2.3.3 and up',\n",
       "       'Varies with device', '2.2 and up', '5.0 and up', '6.0 and up',\n",
       "       '1.6 and up', '1.5 and up', '2.1 and up', '7.0 and up',\n",
       "       '5.1 and up', '4.3 and up', '4.0.3 - 7.1.1', '2.0 and up',\n",
       "       '3.2 and up', '4.4W and up', '7.1 and up', '7.0 - 7.1.1',\n",
       "       '8.0 and up', '5.0 - 8.0', '3.1 and up', '2.0.1 and up',\n",
       "       '4.1 - 7.1.1', nan, '5.0 - 6.0', '1.0 and up', '2.2 - 7.1.1',\n",
       "       '5.0 - 7.1.1'], dtype=object)"
      ]
     },
     "execution_count": 10,
     "metadata": {},
     "output_type": "execute_result"
    }
   ],
   "source": [
    "df[\"Android Ver\"].unique()"
   ]
  },
  {
   "cell_type": "code",
   "execution_count": 11,
   "metadata": {},
   "outputs": [
    {
     "data": {
      "text/plain": [
       "array(['1.0.0', '2.0.0', '1.2.4', ..., '1.0.612928', '0.3.4', '2.0.148.0'],\n",
       "      dtype=object)"
      ]
     },
     "execution_count": 11,
     "metadata": {},
     "output_type": "execute_result"
    }
   ],
   "source": [
    "df[\"Current Ver\"].unique()"
   ]
  },
  {
   "cell_type": "code",
   "execution_count": 12,
   "metadata": {},
   "outputs": [
    {
     "data": {
      "text/plain": [
       "App                  0\n",
       "Category             0\n",
       "Rating            1474\n",
       "Reviews              0\n",
       "Size              1695\n",
       "Installs             0\n",
       "Type                 1\n",
       "Price                0\n",
       "Content Rating       0\n",
       "Genres               0\n",
       "Last Updated         0\n",
       "Current Ver          8\n",
       "Android Ver          2\n",
       "dtype: int64"
      ]
     },
     "execution_count": 12,
     "metadata": {},
     "output_type": "execute_result"
    }
   ],
   "source": [
    "df.isnull().sum()\n",
    "# Null values in Size is do to \"Varies with device\"\n",
    "# We need to explore Rating missing values"
   ]
  },
  {
   "cell_type": "code",
   "execution_count": 13,
   "metadata": {},
   "outputs": [
    {
     "data": {
      "text/html": [
       "<div>\n",
       "<style scoped>\n",
       "    .dataframe tbody tr th:only-of-type {\n",
       "        vertical-align: middle;\n",
       "    }\n",
       "\n",
       "    .dataframe tbody tr th {\n",
       "        vertical-align: top;\n",
       "    }\n",
       "\n",
       "    .dataframe thead th {\n",
       "        text-align: right;\n",
       "    }\n",
       "</style>\n",
       "<table border=\"1\" class=\"dataframe\">\n",
       "  <thead>\n",
       "    <tr style=\"text-align: right;\">\n",
       "      <th></th>\n",
       "      <th>Rating</th>\n",
       "      <th>Reviews</th>\n",
       "      <th>Size</th>\n",
       "      <th>Installs</th>\n",
       "      <th>Price</th>\n",
       "    </tr>\n",
       "  </thead>\n",
       "  <tbody>\n",
       "    <tr>\n",
       "      <th>count</th>\n",
       "      <td>0.0</td>\n",
       "      <td>1474.000000</td>\n",
       "      <td>1416.000000</td>\n",
       "      <td>1474.000000</td>\n",
       "      <td>1474.000000</td>\n",
       "    </tr>\n",
       "    <tr>\n",
       "      <th>mean</th>\n",
       "      <td>NaN</td>\n",
       "      <td>0.018062</td>\n",
       "      <td>34.581369</td>\n",
       "      <td>4053.968114</td>\n",
       "      <td>1.449539</td>\n",
       "    </tr>\n",
       "    <tr>\n",
       "      <th>std</th>\n",
       "      <td>NaN</td>\n",
       "      <td>0.139912</td>\n",
       "      <td>23.777228</td>\n",
       "      <td>40795.975992</td>\n",
       "      <td>16.770343</td>\n",
       "    </tr>\n",
       "    <tr>\n",
       "      <th>min</th>\n",
       "      <td>NaN</td>\n",
       "      <td>0.000000</td>\n",
       "      <td>0.018000</td>\n",
       "      <td>0.000000</td>\n",
       "      <td>0.000000</td>\n",
       "    </tr>\n",
       "    <tr>\n",
       "      <th>25%</th>\n",
       "      <td>NaN</td>\n",
       "      <td>0.000000</td>\n",
       "      <td>17.000000</td>\n",
       "      <td>10.000000</td>\n",
       "      <td>0.000000</td>\n",
       "    </tr>\n",
       "    <tr>\n",
       "      <th>50%</th>\n",
       "      <td>NaN</td>\n",
       "      <td>0.001000</td>\n",
       "      <td>28.000000</td>\n",
       "      <td>100.000000</td>\n",
       "      <td>0.000000</td>\n",
       "    </tr>\n",
       "    <tr>\n",
       "      <th>75%</th>\n",
       "      <td>NaN</td>\n",
       "      <td>0.005000</td>\n",
       "      <td>47.000000</td>\n",
       "      <td>500.000000</td>\n",
       "      <td>0.000000</td>\n",
       "    </tr>\n",
       "    <tr>\n",
       "      <th>max</th>\n",
       "      <td>NaN</td>\n",
       "      <td>3.248000</td>\n",
       "      <td>100.000000</td>\n",
       "      <td>1000000.000000</td>\n",
       "      <td>399.990000</td>\n",
       "    </tr>\n",
       "  </tbody>\n",
       "</table>\n",
       "</div>"
      ],
      "text/plain": [
       "       Rating      Reviews         Size        Installs        Price\n",
       "count     0.0  1474.000000  1416.000000     1474.000000  1474.000000\n",
       "mean      NaN     0.018062    34.581369     4053.968114     1.449539\n",
       "std       NaN     0.139912    23.777228    40795.975992    16.770343\n",
       "min       NaN     0.000000     0.018000        0.000000     0.000000\n",
       "25%       NaN     0.000000    17.000000       10.000000     0.000000\n",
       "50%       NaN     0.001000    28.000000      100.000000     0.000000\n",
       "75%       NaN     0.005000    47.000000      500.000000     0.000000\n",
       "max       NaN     3.248000   100.000000  1000000.000000   399.990000"
      ]
     },
     "execution_count": 13,
     "metadata": {},
     "output_type": "execute_result"
    }
   ],
   "source": [
    "df[df.Rating.isnull()].describe()\n",
    "# There are mostly low value of reviews with a mean of 18."
   ]
  },
  {
   "attachments": {},
   "cell_type": "markdown",
   "metadata": {},
   "source": [
    "# What are the most popular types of apps on the Google Play Store? Has this changed over time?"
   ]
  },
  {
   "cell_type": "code",
   "execution_count": 14,
   "metadata": {},
   "outputs": [
    {
     "data": {
      "text/plain": [
       "Index(['App', 'Category', 'Rating', 'Reviews', 'Size', 'Installs', 'Type',\n",
       "       'Price', 'Content Rating', 'Genres', 'Last Updated', 'Current Ver',\n",
       "       'Android Ver'],\n",
       "      dtype='object')"
      ]
     },
     "execution_count": 14,
     "metadata": {},
     "output_type": "execute_result"
    }
   ],
   "source": [
    "df.columns"
   ]
  },
  {
   "cell_type": "code",
   "execution_count": 15,
   "metadata": {},
   "outputs": [
    {
     "data": {
      "text/plain": [
       "array(['ART_AND_DESIGN', 'AUTO_AND_VEHICLES', 'BEAUTY',\n",
       "       'BOOKS_AND_REFERENCE', 'BUSINESS', 'COMICS', 'COMMUNICATION',\n",
       "       'DATING', 'EDUCATION', 'ENTERTAINMENT', 'EVENTS', 'FINANCE',\n",
       "       'FOOD_AND_DRINK', 'HEALTH_AND_FITNESS', 'HOUSE_AND_HOME',\n",
       "       'LIBRARIES_AND_DEMO', 'LIFESTYLE', 'GAME', 'FAMILY', 'MEDICAL',\n",
       "       'SOCIAL', 'SHOPPING', 'PHOTOGRAPHY', 'SPORTS', 'TRAVEL_AND_LOCAL',\n",
       "       'TOOLS', 'PERSONALIZATION', 'PRODUCTIVITY', 'PARENTING', 'WEATHER',\n",
       "       'VIDEO_PLAYERS', 'NEWS_AND_MAGAZINES', 'MAPS_AND_NAVIGATION'],\n",
       "      dtype=object)"
      ]
     },
     "metadata": {},
     "output_type": "display_data"
    },
    {
     "data": {
      "text/plain": [
       "33"
      ]
     },
     "execution_count": 15,
     "metadata": {},
     "output_type": "execute_result"
    }
   ],
   "source": [
    "display(df.Category.unique())\n",
    "len(df.Category.unique())"
   ]
  },
  {
   "cell_type": "code",
   "execution_count": 16,
   "metadata": {},
   "outputs": [
    {
     "data": {
      "text/plain": [
       "<AxesSubplot:>"
      ]
     },
     "execution_count": 16,
     "metadata": {},
     "output_type": "execute_result"
    },
    {
     "data": {
      "image/png": "[encoded data removed]",
      "text/plain": [
       "<Figure size 640x480 with 1 Axes>"
      ]
     },
     "metadata": {},
     "output_type": "display_data"
    }
   ],
   "source": [
    "categories = df.Category.value_counts().index\n",
    "counts = df.Category.value_counts().values\n",
    "sns.barplot(x=counts, y=categories)\n"
   ]
  },
  {
   "cell_type": "code",
   "execution_count": 17,
   "metadata": {},
   "outputs": [
    {
     "data": {
      "text/plain": [
       "array([1972, 1144,  843,  463,  460,  424,  392,  387,  384,  382,  366,\n",
       "        341,  335,  295,  283,  260,  258,  234,  231,  175,  156,  149,\n",
       "        137,  127,   88,   85,   85,   82,   65,   64,   60,   60,   53])"
      ]
     },
     "execution_count": 17,
     "metadata": {},
     "output_type": "execute_result"
    }
   ],
   "source": [
    "counts"
   ]
  },
  {
   "cell_type": "code",
   "execution_count": 18,
   "metadata": {},
   "outputs": [],
   "source": [
    "df[\"Year\"] = df[\"Last Updated\"].dt.year"
   ]
  },
  {
   "cell_type": "code",
   "execution_count": 19,
   "metadata": {},
   "outputs": [],
   "source": [
    "categories = df.Category.value_counts().index\n",
    "counts = df.Category.value_counts().values\n"
   ]
  },
  {
   "cell_type": "code",
   "execution_count": 20,
   "metadata": {},
   "outputs": [
    {
     "data": {
      "text/plain": [
       "Text(0.5, 0.98, 'Top five apps from 2013 to 2018')"
      ]
     },
     "execution_count": 20,
     "metadata": {},
     "output_type": "execute_result"
    },
    {
     "data": {
      "image/png": "[encoded data removed]",
      "text/plain": [
       "<Figure size 1500x1000 with 6 Axes>"
      ]
     },
     "metadata": {},
     "output_type": "display_data"
    }
   ],
   "source": [
    "fig,(ax1,ax2) = plt.subplots(2,3,figsize=(15,10))\n",
    "years = sorted(df.Year.unique(),reverse=True)\n",
    "for ax,year in zip(ax1,years[:3]):\n",
    "    counted_values = df[df.Year == year][\"Category\"].value_counts()[:5]\n",
    "    categories = counted_values.index\n",
    "    counts = counted_values.values\n",
    "    sns.barplot(x=counts,y=categories,ax=ax,color=\"#3f92eb\")\n",
    "    ax.set_title(year)\n",
    "    ax.tick_params(axis='x', labelrotation=90)\n",
    "    ax.set_yticklabels(labels=categories,fontsize=6)\n",
    "for ax,year in zip(ax2,years[3:7]):\n",
    "    counted_values = df[df.Year == year][\"Category\"].value_counts()[:5]\n",
    "    categories = counted_values.index\n",
    "    counts = counted_values.values\n",
    "    sns.barplot(x=counts,y=categories,ax=ax,color=\"#3f92eb\")\n",
    "    ax.set_title(year)\n",
    "    ax.tick_params(axis='x', labelrotation=90,)\n",
    "    ax.set_yticklabels(labels=categories,fontsize=7)\n",
    "plt.subplots_adjust(left=0.1, right=0.9, bottom=0.1, top=0.9, wspace=0.3, hspace=0.3)\n",
    "plt.suptitle(\"Top five apps from 2013 to 2018\")\n"
   ]
  },
  {
   "cell_type": "code",
   "execution_count": 21,
   "metadata": {},
   "outputs": [],
   "source": [
    "# We can see that already game and family where above the rest of the apps, and tools when from 4th to 3th in 2014"
   ]
  },
  {
   "cell_type": "code",
   "execution_count": 30,
   "metadata": {},
   "outputs": [],
   "source": [
    "avg_install = df.groupby(\"Category\")[[\"Installs\"]].mean()\n",
    "avg_install.Installs = avg_install.Installs / 1000\n",
    "avg_install.rename(columns={\"Installs\":\"Installs(k)\"},inplace=True)\n",
    "avg_install.sort_values(\"Installs(k)\",ascending=False,inplace=True)\n"
   ]
  },
  {
   "cell_type": "code",
   "execution_count": 31,
   "metadata": {},
   "outputs": [
    {
     "data": {
      "text/plain": [
       "<AxesSubplot:xlabel='Installs(k)', ylabel='Category'>"
      ]
     },
     "execution_count": 31,
     "metadata": {},
     "output_type": "execute_result"
    },
    {
     "data": {
      "image/png": "[encoded data removed]",
      "text/plain": [
       "<Figure size 640x480 with 1 Axes>"
      ]
     },
     "metadata": {},
     "output_type": "display_data"
    }
   ],
   "source": [
    "categories = avg_install.index\n",
    "counts = avg_install[\"Installs(k)\"]\n",
    "sns.barplot(x=counts, y=categories)"
   ]
  },
  {
   "cell_type": "code",
   "execution_count": null,
   "metadata": {},
   "outputs": [],
   "source": []
  },
  {
   "attachments": {},
   "cell_type": "markdown",
   "metadata": {},
   "source": [
    "# How do app ratings and reviews vary by category, and what factors are associated with higher or lower ratings?"
   ]
  },
  {
   "cell_type": "code",
   "execution_count": 23,
   "metadata": {},
   "outputs": [
    {
     "data": {
      "text/plain": [
       "count    9366.000000\n",
       "mean        4.191757\n",
       "std         0.515219\n",
       "min         1.000000\n",
       "25%         4.000000\n",
       "50%         4.300000\n",
       "75%         4.500000\n",
       "max         5.000000\n",
       "Name: Rating, dtype: float64"
      ]
     },
     "execution_count": 23,
     "metadata": {},
     "output_type": "execute_result"
    }
   ],
   "source": [
    "# what is the average rating\n",
    "df.Rating.describe()\n",
    "# App are in general well rated."
   ]
  },
  {
   "cell_type": "code",
   "execution_count": 24,
   "metadata": {},
   "outputs": [],
   "source": [
    "rating_df = df[df.Rating.notnull()]"
   ]
  },
  {
   "cell_type": "code",
   "execution_count": 25,
   "metadata": {},
   "outputs": [
    {
     "data": {
      "text/plain": [
       "(9366, 14)"
      ]
     },
     "execution_count": 25,
     "metadata": {},
     "output_type": "execute_result"
    }
   ],
   "source": [
    "rating_df.shape"
   ]
  },
  {
   "cell_type": "code",
   "execution_count": 38,
   "metadata": {},
   "outputs": [],
   "source": [
    "mean_rating_cat = rating_df.groupby('Category').agg({\"Rating\":\"mean\",\"Installs\":\"mean\",\"Size\":\"mean\",\"Reviews\":\"mean\",\"Price\":\"mean\",\"Category\":\"count\"})\n",
    "mean_rating_cat = mean_rating_cat.sort_values(\"Rating\")\n",
    "worst_best = pd.concat([mean_rating_cat[:5],mean_rating_cat[-5:]],axis=0)"
   ]
  },
  {
   "cell_type": "code",
   "execution_count": 39,
   "metadata": {},
   "outputs": [
    {
     "data": {
      "text/html": [
       "<div>\n",
       "<style scoped>\n",
       "    .dataframe tbody tr th:only-of-type {\n",
       "        vertical-align: middle;\n",
       "    }\n",
       "\n",
       "    .dataframe tbody tr th {\n",
       "        vertical-align: top;\n",
       "    }\n",
       "\n",
       "    .dataframe thead th {\n",
       "        text-align: right;\n",
       "    }\n",
       "</style>\n",
       "<table border=\"1\" class=\"dataframe\">\n",
       "  <thead>\n",
       "    <tr style=\"text-align: right;\">\n",
       "      <th></th>\n",
       "      <th>Rating</th>\n",
       "      <th>Installs</th>\n",
       "      <th>Size</th>\n",
       "      <th>Reviews</th>\n",
       "      <th>Price</th>\n",
       "      <th>Category</th>\n",
       "    </tr>\n",
       "    <tr>\n",
       "      <th>Category</th>\n",
       "      <th></th>\n",
       "      <th></th>\n",
       "      <th></th>\n",
       "      <th></th>\n",
       "      <th></th>\n",
       "      <th></th>\n",
       "    </tr>\n",
       "  </thead>\n",
       "  <tbody>\n",
       "    <tr>\n",
       "      <th>DATING</th>\n",
       "      <td>3.970769</td>\n",
       "      <td>1.355360e+06</td>\n",
       "      <td>38.086705</td>\n",
       "      <td>37.389944</td>\n",
       "      <td>0.117744</td>\n",
       "      <td>195</td>\n",
       "    </tr>\n",
       "    <tr>\n",
       "      <th>TOOLS</th>\n",
       "      <td>4.047411</td>\n",
       "      <td>1.560044e+07</td>\n",
       "      <td>32.478101</td>\n",
       "      <td>372.185515</td>\n",
       "      <td>0.283243</td>\n",
       "      <td>734</td>\n",
       "    </tr>\n",
       "    <tr>\n",
       "      <th>MAPS_AND_NAVIGATION</th>\n",
       "      <td>4.051613</td>\n",
       "      <td>5.840867e+06</td>\n",
       "      <td>38.556211</td>\n",
       "      <td>247.250484</td>\n",
       "      <td>0.217339</td>\n",
       "      <td>124</td>\n",
       "    </tr>\n",
       "    <tr>\n",
       "      <th>VIDEO_PLAYERS</th>\n",
       "      <td>4.063750</td>\n",
       "      <td>3.888686e+07</td>\n",
       "      <td>36.049828</td>\n",
       "      <td>689.873075</td>\n",
       "      <td>0.065375</td>\n",
       "      <td>160</td>\n",
       "    </tr>\n",
       "    <tr>\n",
       "      <th>LIFESTYLE</th>\n",
       "      <td>4.094904</td>\n",
       "      <td>1.711978e+06</td>\n",
       "      <td>37.620436</td>\n",
       "      <td>41.024742</td>\n",
       "      <td>6.244841</td>\n",
       "      <td>314</td>\n",
       "    </tr>\n",
       "    <tr>\n",
       "      <th>TRAVEL_AND_LOCAL</th>\n",
       "      <td>4.109292</td>\n",
       "      <td>3.039318e+07</td>\n",
       "      <td>37.406363</td>\n",
       "      <td>277.069788</td>\n",
       "      <td>0.165885</td>\n",
       "      <td>226</td>\n",
       "    </tr>\n",
       "    <tr>\n",
       "      <th>BUSINESS</th>\n",
       "      <td>4.121452</td>\n",
       "      <td>3.306165e+06</td>\n",
       "      <td>36.881236</td>\n",
       "      <td>46.053089</td>\n",
       "      <td>0.245512</td>\n",
       "      <td>303</td>\n",
       "    </tr>\n",
       "    <tr>\n",
       "      <th>ENTERTAINMENT</th>\n",
       "      <td>4.126174</td>\n",
       "      <td>1.925611e+07</td>\n",
       "      <td>31.133333</td>\n",
       "      <td>397.168819</td>\n",
       "      <td>0.053557</td>\n",
       "      <td>149</td>\n",
       "    </tr>\n",
       "    <tr>\n",
       "      <th>FINANCE</th>\n",
       "      <td>4.131889</td>\n",
       "      <td>2.713970e+06</td>\n",
       "      <td>35.828459</td>\n",
       "      <td>54.335622</td>\n",
       "      <td>7.553777</td>\n",
       "      <td>323</td>\n",
       "    </tr>\n",
       "    <tr>\n",
       "      <th>NEWS_AND_MAGAZINES</th>\n",
       "      <td>4.132189</td>\n",
       "      <td>3.217258e+07</td>\n",
       "      <td>38.226675</td>\n",
       "      <td>233.475961</td>\n",
       "      <td>0.017082</td>\n",
       "      <td>233</td>\n",
       "    </tr>\n",
       "    <tr>\n",
       "      <th>COMICS</th>\n",
       "      <td>4.155172</td>\n",
       "      <td>9.661397e+05</td>\n",
       "      <td>34.592918</td>\n",
       "      <td>58.309397</td>\n",
       "      <td>0.000000</td>\n",
       "      <td>58</td>\n",
       "    </tr>\n",
       "    <tr>\n",
       "      <th>COMMUNICATION</th>\n",
       "      <td>4.158537</td>\n",
       "      <td>9.953427e+07</td>\n",
       "      <td>31.119445</td>\n",
       "      <td>2486.164021</td>\n",
       "      <td>0.172835</td>\n",
       "      <td>328</td>\n",
       "    </tr>\n",
       "    <tr>\n",
       "      <th>FOOD_AND_DRINK</th>\n",
       "      <td>4.166972</td>\n",
       "      <td>2.511722e+06</td>\n",
       "      <td>33.773810</td>\n",
       "      <td>81.495495</td>\n",
       "      <td>0.077798</td>\n",
       "      <td>109</td>\n",
       "    </tr>\n",
       "    <tr>\n",
       "      <th>LIBRARIES_AND_DEMO</th>\n",
       "      <td>4.178462</td>\n",
       "      <td>9.551231e+05</td>\n",
       "      <td>24.807532</td>\n",
       "      <td>15.900538</td>\n",
       "      <td>0.000000</td>\n",
       "      <td>65</td>\n",
       "    </tr>\n",
       "    <tr>\n",
       "      <th>MEDICAL</th>\n",
       "      <td>4.189143</td>\n",
       "      <td>1.520159e+05</td>\n",
       "      <td>35.320383</td>\n",
       "      <td>4.530349</td>\n",
       "      <td>2.980400</td>\n",
       "      <td>350</td>\n",
       "    </tr>\n",
       "    <tr>\n",
       "      <th>AUTO_AND_VEHICLES</th>\n",
       "      <td>4.190411</td>\n",
       "      <td>7.278055e+05</td>\n",
       "      <td>39.669857</td>\n",
       "      <td>15.940137</td>\n",
       "      <td>0.027260</td>\n",
       "      <td>73</td>\n",
       "    </tr>\n",
       "    <tr>\n",
       "      <th>PHOTOGRAPHY</th>\n",
       "      <td>4.192114</td>\n",
       "      <td>3.182411e+07</td>\n",
       "      <td>39.797983</td>\n",
       "      <td>673.553965</td>\n",
       "      <td>0.278360</td>\n",
       "      <td>317</td>\n",
       "    </tr>\n",
       "    <tr>\n",
       "      <th>FAMILY</th>\n",
       "      <td>4.192272</td>\n",
       "      <td>5.871609e+06</td>\n",
       "      <td>44.135933</td>\n",
       "      <td>234.815730</td>\n",
       "      <td>1.314677</td>\n",
       "      <td>1747</td>\n",
       "    </tr>\n",
       "    <tr>\n",
       "      <th>HOUSE_AND_HOME</th>\n",
       "      <td>4.197368</td>\n",
       "      <td>2.218184e+06</td>\n",
       "      <td>43.910714</td>\n",
       "      <td>52.315842</td>\n",
       "      <td>0.000000</td>\n",
       "      <td>76</td>\n",
       "    </tr>\n",
       "    <tr>\n",
       "      <th>PRODUCTIVITY</th>\n",
       "      <td>4.211396</td>\n",
       "      <td>4.038766e+07</td>\n",
       "      <td>35.851557</td>\n",
       "      <td>325.118852</td>\n",
       "      <td>0.202051</td>\n",
       "      <td>351</td>\n",
       "    </tr>\n",
       "    <tr>\n",
       "      <th>SPORTS</th>\n",
       "      <td>4.223511</td>\n",
       "      <td>5.489440e+06</td>\n",
       "      <td>40.291105</td>\n",
       "      <td>222.036263</td>\n",
       "      <td>0.292194</td>\n",
       "      <td>319</td>\n",
       "    </tr>\n",
       "    <tr>\n",
       "      <th>WEATHER</th>\n",
       "      <td>4.244000</td>\n",
       "      <td>5.681287e+06</td>\n",
       "      <td>36.717294</td>\n",
       "      <td>194.729267</td>\n",
       "      <td>0.392400</td>\n",
       "      <td>75</td>\n",
       "    </tr>\n",
       "    <tr>\n",
       "      <th>SOCIAL</th>\n",
       "      <td>4.255598</td>\n",
       "      <td>5.432371e+07</td>\n",
       "      <td>39.926056</td>\n",
       "      <td>2398.614251</td>\n",
       "      <td>0.007645</td>\n",
       "      <td>259</td>\n",
       "    </tr>\n",
       "    <tr>\n",
       "      <th>SHOPPING</th>\n",
       "      <td>4.259664</td>\n",
       "      <td>1.364635e+07</td>\n",
       "      <td>32.804011</td>\n",
       "      <td>483.365685</td>\n",
       "      <td>0.023025</td>\n",
       "      <td>238</td>\n",
       "    </tr>\n",
       "    <tr>\n",
       "      <th>HEALTH_AND_FITNESS</th>\n",
       "      <td>4.277104</td>\n",
       "      <td>5.330156e+06</td>\n",
       "      <td>42.956099</td>\n",
       "      <td>127.587953</td>\n",
       "      <td>0.152795</td>\n",
       "      <td>297</td>\n",
       "    </tr>\n",
       "    <tr>\n",
       "      <th>BEAUTY</th>\n",
       "      <td>4.278571</td>\n",
       "      <td>6.408619e+05</td>\n",
       "      <td>37.891892</td>\n",
       "      <td>9.407929</td>\n",
       "      <td>0.000000</td>\n",
       "      <td>42</td>\n",
       "    </tr>\n",
       "    <tr>\n",
       "      <th>GAME</th>\n",
       "      <td>4.286326</td>\n",
       "      <td>3.198347e+07</td>\n",
       "      <td>49.945021</td>\n",
       "      <td>1445.232067</td>\n",
       "      <td>0.255570</td>\n",
       "      <td>1097</td>\n",
       "    </tr>\n",
       "    <tr>\n",
       "      <th>PARENTING</th>\n",
       "      <td>4.300000</td>\n",
       "      <td>6.223222e+05</td>\n",
       "      <td>40.704545</td>\n",
       "      <td>19.072180</td>\n",
       "      <td>0.191600</td>\n",
       "      <td>50</td>\n",
       "    </tr>\n",
       "    <tr>\n",
       "      <th>PERSONALIZATION</th>\n",
       "      <td>4.335987</td>\n",
       "      <td>7.405583e+06</td>\n",
       "      <td>37.259639</td>\n",
       "      <td>284.540812</td>\n",
       "      <td>0.406879</td>\n",
       "      <td>314</td>\n",
       "    </tr>\n",
       "    <tr>\n",
       "      <th>BOOKS_AND_REFERENCE</th>\n",
       "      <td>4.346067</td>\n",
       "      <td>1.079377e+07</td>\n",
       "      <td>39.467500</td>\n",
       "      <td>123.363258</td>\n",
       "      <td>0.134157</td>\n",
       "      <td>178</td>\n",
       "    </tr>\n",
       "    <tr>\n",
       "      <th>ART_AND_DESIGN</th>\n",
       "      <td>4.358065</td>\n",
       "      <td>2.003760e+06</td>\n",
       "      <td>38.118644</td>\n",
       "      <td>27.651161</td>\n",
       "      <td>0.096290</td>\n",
       "      <td>62</td>\n",
       "    </tr>\n",
       "    <tr>\n",
       "      <th>EDUCATION</th>\n",
       "      <td>4.389032</td>\n",
       "      <td>5.621626e+06</td>\n",
       "      <td>34.318927</td>\n",
       "      <td>255.451677</td>\n",
       "      <td>0.115871</td>\n",
       "      <td>155</td>\n",
       "    </tr>\n",
       "    <tr>\n",
       "      <th>EVENTS</th>\n",
       "      <td>4.435556</td>\n",
       "      <td>3.544313e+05</td>\n",
       "      <td>37.903526</td>\n",
       "      <td>3.568667</td>\n",
       "      <td>0.000000</td>\n",
       "      <td>45</td>\n",
       "    </tr>\n",
       "  </tbody>\n",
       "</table>\n",
       "</div>"
      ],
      "text/plain": [
       "                       Rating      Installs       Size      Reviews     Price  \\\n",
       "Category                                                                        \n",
       "DATING               3.970769  1.355360e+06  38.086705    37.389944  0.117744   \n",
       "TOOLS                4.047411  1.560044e+07  32.478101   372.185515  0.283243   \n",
       "MAPS_AND_NAVIGATION  4.051613  5.840867e+06  38.556211   247.250484  0.217339   \n",
       "VIDEO_PLAYERS        4.063750  3.888686e+07  36.049828   689.873075  0.065375   \n",
       "LIFESTYLE            4.094904  1.711978e+06  37.620436    41.024742  6.244841   \n",
       "TRAVEL_AND_LOCAL     4.109292  3.039318e+07  37.406363   277.069788  0.165885   \n",
       "BUSINESS             4.121452  3.306165e+06  36.881236    46.053089  0.245512   \n",
       "ENTERTAINMENT        4.126174  1.925611e+07  31.133333   397.168819  0.053557   \n",
       "FINANCE              4.131889  2.713970e+06  35.828459    54.335622  7.553777   \n",
       "NEWS_AND_MAGAZINES   4.132189  3.217258e+07  38.226675   233.475961  0.017082   \n",
       "COMICS               4.155172  9.661397e+05  34.592918    58.309397  0.000000   \n",
       "COMMUNICATION        4.158537  9.953427e+07  31.119445  2486.164021  0.172835   \n",
       "FOOD_AND_DRINK       4.166972  2.511722e+06  33.773810    81.495495  0.077798   \n",
       "LIBRARIES_AND_DEMO   4.178462  9.551231e+05  24.807532    15.900538  0.000000   \n",
       "MEDICAL              4.189143  1.520159e+05  35.320383     4.530349  2.980400   \n",
       "AUTO_AND_VEHICLES    4.190411  7.278055e+05  39.669857    15.940137  0.027260   \n",
       "PHOTOGRAPHY          4.192114  3.182411e+07  39.797983   673.553965  0.278360   \n",
       "FAMILY               4.192272  5.871609e+06  44.135933   234.815730  1.314677   \n",
       "HOUSE_AND_HOME       4.197368  2.218184e+06  43.910714    52.315842  0.000000   \n",
       "PRODUCTIVITY         4.211396  4.038766e+07  35.851557   325.118852  0.202051   \n",
       "SPORTS               4.223511  5.489440e+06  40.291105   222.036263  0.292194   \n",
       "WEATHER              4.244000  5.681287e+06  36.717294   194.729267  0.392400   \n",
       "SOCIAL               4.255598  5.432371e+07  39.926056  2398.614251  0.007645   \n",
       "SHOPPING             4.259664  1.364635e+07  32.804011   483.365685  0.023025   \n",
       "HEALTH_AND_FITNESS   4.277104  5.330156e+06  42.956099   127.587953  0.152795   \n",
       "BEAUTY               4.278571  6.408619e+05  37.891892     9.407929  0.000000   \n",
       "GAME                 4.286326  3.198347e+07  49.945021  1445.232067  0.255570   \n",
       "PARENTING            4.300000  6.223222e+05  40.704545    19.072180  0.191600   \n",
       "PERSONALIZATION      4.335987  7.405583e+06  37.259639   284.540812  0.406879   \n",
       "BOOKS_AND_REFERENCE  4.346067  1.079377e+07  39.467500   123.363258  0.134157   \n",
       "ART_AND_DESIGN       4.358065  2.003760e+06  38.118644    27.651161  0.096290   \n",
       "EDUCATION            4.389032  5.621626e+06  34.318927   255.451677  0.115871   \n",
       "EVENTS               4.435556  3.544313e+05  37.903526     3.568667  0.000000   \n",
       "\n",
       "                     Category  \n",
       "Category                       \n",
       "DATING                    195  \n",
       "TOOLS                     734  \n",
       "MAPS_AND_NAVIGATION       124  \n",
       "VIDEO_PLAYERS             160  \n",
       "LIFESTYLE                 314  \n",
       "TRAVEL_AND_LOCAL          226  \n",
       "BUSINESS                  303  \n",
       "ENTERTAINMENT             149  \n",
       "FINANCE                   323  \n",
       "NEWS_AND_MAGAZINES        233  \n",
       "COMICS                     58  \n",
       "COMMUNICATION             328  \n",
       "FOOD_AND_DRINK            109  \n",
       "LIBRARIES_AND_DEMO         65  \n",
       "MEDICAL                   350  \n",
       "AUTO_AND_VEHICLES          73  \n",
       "PHOTOGRAPHY               317  \n",
       "FAMILY                   1747  \n",
       "HOUSE_AND_HOME             76  \n",
       "PRODUCTIVITY              351  \n",
       "SPORTS                    319  \n",
       "WEATHER                    75  \n",
       "SOCIAL                    259  \n",
       "SHOPPING                  238  \n",
       "HEALTH_AND_FITNESS        297  \n",
       "BEAUTY                     42  \n",
       "GAME                     1097  \n",
       "PARENTING                  50  \n",
       "PERSONALIZATION           314  \n",
       "BOOKS_AND_REFERENCE       178  \n",
       "ART_AND_DESIGN             62  \n",
       "EDUCATION                 155  \n",
       "EVENTS                     45  "
      ]
     },
     "execution_count": 39,
     "metadata": {},
     "output_type": "execute_result"
    }
   ],
   "source": []
  },
  {
   "cell_type": "code",
   "execution_count": 33,
   "metadata": {},
   "outputs": [
    {
     "data": {
      "text/html": [
       "<div>\n",
       "<style scoped>\n",
       "    .dataframe tbody tr th:only-of-type {\n",
       "        vertical-align: middle;\n",
       "    }\n",
       "\n",
       "    .dataframe tbody tr th {\n",
       "        vertical-align: top;\n",
       "    }\n",
       "\n",
       "    .dataframe thead th {\n",
       "        text-align: right;\n",
       "    }\n",
       "</style>\n",
       "<table border=\"1\" class=\"dataframe\">\n",
       "  <thead>\n",
       "    <tr style=\"text-align: right;\">\n",
       "      <th></th>\n",
       "      <th>Rating</th>\n",
       "      <th>Size</th>\n",
       "      <th>Reviews</th>\n",
       "      <th>Price</th>\n",
       "      <th>Category</th>\n",
       "    </tr>\n",
       "    <tr>\n",
       "      <th>Category</th>\n",
       "      <th></th>\n",
       "      <th></th>\n",
       "      <th></th>\n",
       "      <th></th>\n",
       "      <th></th>\n",
       "    </tr>\n",
       "  </thead>\n",
       "  <tbody>\n",
       "    <tr>\n",
       "      <th>DATING</th>\n",
       "      <td>3.970769</td>\n",
       "      <td>38.086705</td>\n",
       "      <td>37.389944</td>\n",
       "      <td>0.117744</td>\n",
       "      <td>195</td>\n",
       "    </tr>\n",
       "    <tr>\n",
       "      <th>TOOLS</th>\n",
       "      <td>4.047411</td>\n",
       "      <td>32.478101</td>\n",
       "      <td>372.185515</td>\n",
       "      <td>0.283243</td>\n",
       "      <td>734</td>\n",
       "    </tr>\n",
       "    <tr>\n",
       "      <th>MAPS_AND_NAVIGATION</th>\n",
       "      <td>4.051613</td>\n",
       "      <td>38.556211</td>\n",
       "      <td>247.250484</td>\n",
       "      <td>0.217339</td>\n",
       "      <td>124</td>\n",
       "    </tr>\n",
       "    <tr>\n",
       "      <th>VIDEO_PLAYERS</th>\n",
       "      <td>4.063750</td>\n",
       "      <td>36.049828</td>\n",
       "      <td>689.873075</td>\n",
       "      <td>0.065375</td>\n",
       "      <td>160</td>\n",
       "    </tr>\n",
       "    <tr>\n",
       "      <th>LIFESTYLE</th>\n",
       "      <td>4.094904</td>\n",
       "      <td>37.620436</td>\n",
       "      <td>41.024742</td>\n",
       "      <td>6.244841</td>\n",
       "      <td>314</td>\n",
       "    </tr>\n",
       "    <tr>\n",
       "      <th>PERSONALIZATION</th>\n",
       "      <td>4.335987</td>\n",
       "      <td>37.259639</td>\n",
       "      <td>284.540812</td>\n",
       "      <td>0.406879</td>\n",
       "      <td>314</td>\n",
       "    </tr>\n",
       "    <tr>\n",
       "      <th>BOOKS_AND_REFERENCE</th>\n",
       "      <td>4.346067</td>\n",
       "      <td>39.467500</td>\n",
       "      <td>123.363258</td>\n",
       "      <td>0.134157</td>\n",
       "      <td>178</td>\n",
       "    </tr>\n",
       "    <tr>\n",
       "      <th>ART_AND_DESIGN</th>\n",
       "      <td>4.358065</td>\n",
       "      <td>38.118644</td>\n",
       "      <td>27.651161</td>\n",
       "      <td>0.096290</td>\n",
       "      <td>62</td>\n",
       "    </tr>\n",
       "    <tr>\n",
       "      <th>EDUCATION</th>\n",
       "      <td>4.389032</td>\n",
       "      <td>34.318927</td>\n",
       "      <td>255.451677</td>\n",
       "      <td>0.115871</td>\n",
       "      <td>155</td>\n",
       "    </tr>\n",
       "    <tr>\n",
       "      <th>EVENTS</th>\n",
       "      <td>4.435556</td>\n",
       "      <td>37.903526</td>\n",
       "      <td>3.568667</td>\n",
       "      <td>0.000000</td>\n",
       "      <td>45</td>\n",
       "    </tr>\n",
       "  </tbody>\n",
       "</table>\n",
       "</div>"
      ],
      "text/plain": [
       "                       Rating       Size     Reviews     Price  Category\n",
       "Category                                                                \n",
       "DATING               3.970769  38.086705   37.389944  0.117744       195\n",
       "TOOLS                4.047411  32.478101  372.185515  0.283243       734\n",
       "MAPS_AND_NAVIGATION  4.051613  38.556211  247.250484  0.217339       124\n",
       "VIDEO_PLAYERS        4.063750  36.049828  689.873075  0.065375       160\n",
       "LIFESTYLE            4.094904  37.620436   41.024742  6.244841       314\n",
       "PERSONALIZATION      4.335987  37.259639  284.540812  0.406879       314\n",
       "BOOKS_AND_REFERENCE  4.346067  39.467500  123.363258  0.134157       178\n",
       "ART_AND_DESIGN       4.358065  38.118644   27.651161  0.096290        62\n",
       "EDUCATION            4.389032  34.318927  255.451677  0.115871       155\n",
       "EVENTS               4.435556  37.903526    3.568667  0.000000        45"
      ]
     },
     "execution_count": 33,
     "metadata": {},
     "output_type": "execute_result"
    }
   ],
   "source": [
    "worst_best"
   ]
  }
 ],
 "metadata": {
  "kernelspec": {
   "display_name": "lewagon",
   "language": "python",
   "name": "python3"
  },
  "language_info": {
   "codemirror_mode": {
    "name": "ipython",
    "version": 3
   },
   "file_extension": ".py",
   "mimetype": "text/x-python",
   "name": "python",
   "nbconvert_exporter": "python",
   "pygments_lexer": "ipython3",
   "version": "3.10.6"
  },
  "orig_nbformat": 4
 },
 "nbformat": 4,
 "nbformat_minor": 2
}
